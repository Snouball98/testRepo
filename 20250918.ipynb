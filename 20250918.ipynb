{
 "cells": [
  {
   "cell_type": "markdown",
   "id": "072d8502",
   "metadata": {},
   "source": [
    "## 2025-09-18"
   ]
  },
  {
   "cell_type": "code",
   "execution_count": 2,
   "id": "fa927980",
   "metadata": {},
   "outputs": [
    {
     "name": "stdout",
     "output_type": "stream",
     "text": [
      "Hello VS Code\n"
     ]
    }
   ],
   "source": [
    "print(\"Hello VS Code\")"
   ]
  },
  {
   "cell_type": "code",
   "execution_count": 6,
   "id": "66fa3183",
   "metadata": {},
   "outputs": [
    {
     "name": "stdout",
     "output_type": "stream",
     "text": [
      "안녕안녕안녕안녕안녕\n"
     ]
    }
   ],
   "source": [
    "print(\"안녕\"*5)"
   ]
  },
  {
   "cell_type": "code",
   "execution_count": 7,
   "id": "d4f717a2",
   "metadata": {},
   "outputs": [
    {
     "name": "stdout",
     "output_type": "stream",
     "text": [
      "안녕안녕\n"
     ]
    }
   ],
   "source": [
    "print(\"안녕안녕\")"
   ]
  },
  {
   "cell_type": "code",
   "execution_count": 4,
   "id": "e035f14c",
   "metadata": {},
   "outputs": [
    {
     "name": "stdout",
     "output_type": "stream",
     "text": [
      "안녕\n"
     ]
    }
   ],
   "source": [
    "print(\"안녕\")"
   ]
  }
 ],
 "metadata": {
  "kernelspec": {
   "display_name": "Python 3",
   "language": "python",
   "name": "python3"
  },
  "language_info": {
   "codemirror_mode": {
    "name": "ipython",
    "version": 3
   },
   "file_extension": ".py",
   "mimetype": "text/x-python",
   "name": "python",
   "nbconvert_exporter": "python",
   "pygments_lexer": "ipython3",
   "version": "3.11.8"
  }
 },
 "nbformat": 4,
 "nbformat_minor": 5
}
